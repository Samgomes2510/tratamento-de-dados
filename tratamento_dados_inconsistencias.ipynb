{
  "nbformat": 4,
  "nbformat_minor": 0,
  "metadata": {
    "colab": {
      "provenance": [],
      "authorship_tag": "ABX9TyOpq9AeHYRFcG56sBOYDRY6",
      "include_colab_link": true
    },
    "kernelspec": {
      "name": "python3",
      "display_name": "Python 3"
    },
    "language_info": {
      "name": "python"
    }
  },
  "cells": [
    {
      "cell_type": "markdown",
      "metadata": {
        "id": "view-in-github",
        "colab_type": "text"
      },
      "source": [
        "<a href=\"https://colab.research.google.com/github/Samgomes2510/tratamento-de-dados/blob/main/tratamento_dados_inconsistencias.ipynb\" target=\"_parent\"><img src=\"https://colab.research.google.com/assets/colab-badge.svg\" alt=\"Open In Colab\"/></a>"
      ]
    },
    {
      "cell_type": "code",
      "source": [
        "!pip install pandas"
      ],
      "metadata": {
        "colab": {
          "base_uri": "https://localhost:8080/"
        },
        "collapsed": true,
        "id": "OVKTpLo0H0S-",
        "outputId": "098e9961-0a5b-422c-d5aa-a86bf01cf808"
      },
      "execution_count": 1,
      "outputs": [
        {
          "output_type": "stream",
          "name": "stdout",
          "text": [
            "Requirement already satisfied: pandas in /usr/local/lib/python3.11/dist-packages (2.2.2)\n",
            "Requirement already satisfied: numpy>=1.23.2 in /usr/local/lib/python3.11/dist-packages (from pandas) (2.0.2)\n",
            "Requirement already satisfied: python-dateutil>=2.8.2 in /usr/local/lib/python3.11/dist-packages (from pandas) (2.9.0.post0)\n",
            "Requirement already satisfied: pytz>=2020.1 in /usr/local/lib/python3.11/dist-packages (from pandas) (2025.2)\n",
            "Requirement already satisfied: tzdata>=2022.7 in /usr/local/lib/python3.11/dist-packages (from pandas) (2025.2)\n",
            "Requirement already satisfied: six>=1.5 in /usr/local/lib/python3.11/dist-packages (from python-dateutil>=2.8.2->pandas) (1.17.0)\n"
          ]
        }
      ]
    },
    {
      "cell_type": "code",
      "execution_count": 2,
      "metadata": {
        "id": "K3KUyiTqHqmI"
      },
      "outputs": [],
      "source": [
        "import pandas as pd\n",
        "import os"
      ]
    },
    {
      "cell_type": "code",
      "source": [
        "from google.colab import files\n",
        "uploaded = files.upload()"
      ],
      "metadata": {
        "colab": {
          "base_uri": "https://localhost:8080/",
          "height": 73
        },
        "id": "f_6H7IHoKK_R",
        "outputId": "2c325dae-46bd-41bd-e11d-cccdb5911adf"
      },
      "execution_count": 3,
      "outputs": [
        {
          "output_type": "display_data",
          "data": {
            "text/plain": [
              "<IPython.core.display.HTML object>"
            ],
            "text/html": [
              "\n",
              "     <input type=\"file\" id=\"files-e62703c7-d013-48eb-af07-20280370dc2c\" name=\"files[]\" multiple disabled\n",
              "        style=\"border:none\" />\n",
              "     <output id=\"result-e62703c7-d013-48eb-af07-20280370dc2c\">\n",
              "      Upload widget is only available when the cell has been executed in the\n",
              "      current browser session. Please rerun this cell to enable.\n",
              "      </output>\n",
              "      <script>// Copyright 2017 Google LLC\n",
              "//\n",
              "// Licensed under the Apache License, Version 2.0 (the \"License\");\n",
              "// you may not use this file except in compliance with the License.\n",
              "// You may obtain a copy of the License at\n",
              "//\n",
              "//      http://www.apache.org/licenses/LICENSE-2.0\n",
              "//\n",
              "// Unless required by applicable law or agreed to in writing, software\n",
              "// distributed under the License is distributed on an \"AS IS\" BASIS,\n",
              "// WITHOUT WARRANTIES OR CONDITIONS OF ANY KIND, either express or implied.\n",
              "// See the License for the specific language governing permissions and\n",
              "// limitations under the License.\n",
              "\n",
              "/**\n",
              " * @fileoverview Helpers for google.colab Python module.\n",
              " */\n",
              "(function(scope) {\n",
              "function span(text, styleAttributes = {}) {\n",
              "  const element = document.createElement('span');\n",
              "  element.textContent = text;\n",
              "  for (const key of Object.keys(styleAttributes)) {\n",
              "    element.style[key] = styleAttributes[key];\n",
              "  }\n",
              "  return element;\n",
              "}\n",
              "\n",
              "// Max number of bytes which will be uploaded at a time.\n",
              "const MAX_PAYLOAD_SIZE = 100 * 1024;\n",
              "\n",
              "function _uploadFiles(inputId, outputId) {\n",
              "  const steps = uploadFilesStep(inputId, outputId);\n",
              "  const outputElement = document.getElementById(outputId);\n",
              "  // Cache steps on the outputElement to make it available for the next call\n",
              "  // to uploadFilesContinue from Python.\n",
              "  outputElement.steps = steps;\n",
              "\n",
              "  return _uploadFilesContinue(outputId);\n",
              "}\n",
              "\n",
              "// This is roughly an async generator (not supported in the browser yet),\n",
              "// where there are multiple asynchronous steps and the Python side is going\n",
              "// to poll for completion of each step.\n",
              "// This uses a Promise to block the python side on completion of each step,\n",
              "// then passes the result of the previous step as the input to the next step.\n",
              "function _uploadFilesContinue(outputId) {\n",
              "  const outputElement = document.getElementById(outputId);\n",
              "  const steps = outputElement.steps;\n",
              "\n",
              "  const next = steps.next(outputElement.lastPromiseValue);\n",
              "  return Promise.resolve(next.value.promise).then((value) => {\n",
              "    // Cache the last promise value to make it available to the next\n",
              "    // step of the generator.\n",
              "    outputElement.lastPromiseValue = value;\n",
              "    return next.value.response;\n",
              "  });\n",
              "}\n",
              "\n",
              "/**\n",
              " * Generator function which is called between each async step of the upload\n",
              " * process.\n",
              " * @param {string} inputId Element ID of the input file picker element.\n",
              " * @param {string} outputId Element ID of the output display.\n",
              " * @return {!Iterable<!Object>} Iterable of next steps.\n",
              " */\n",
              "function* uploadFilesStep(inputId, outputId) {\n",
              "  const inputElement = document.getElementById(inputId);\n",
              "  inputElement.disabled = false;\n",
              "\n",
              "  const outputElement = document.getElementById(outputId);\n",
              "  outputElement.innerHTML = '';\n",
              "\n",
              "  const pickedPromise = new Promise((resolve) => {\n",
              "    inputElement.addEventListener('change', (e) => {\n",
              "      resolve(e.target.files);\n",
              "    });\n",
              "  });\n",
              "\n",
              "  const cancel = document.createElement('button');\n",
              "  inputElement.parentElement.appendChild(cancel);\n",
              "  cancel.textContent = 'Cancel upload';\n",
              "  const cancelPromise = new Promise((resolve) => {\n",
              "    cancel.onclick = () => {\n",
              "      resolve(null);\n",
              "    };\n",
              "  });\n",
              "\n",
              "  // Wait for the user to pick the files.\n",
              "  const files = yield {\n",
              "    promise: Promise.race([pickedPromise, cancelPromise]),\n",
              "    response: {\n",
              "      action: 'starting',\n",
              "    }\n",
              "  };\n",
              "\n",
              "  cancel.remove();\n",
              "\n",
              "  // Disable the input element since further picks are not allowed.\n",
              "  inputElement.disabled = true;\n",
              "\n",
              "  if (!files) {\n",
              "    return {\n",
              "      response: {\n",
              "        action: 'complete',\n",
              "      }\n",
              "    };\n",
              "  }\n",
              "\n",
              "  for (const file of files) {\n",
              "    const li = document.createElement('li');\n",
              "    li.append(span(file.name, {fontWeight: 'bold'}));\n",
              "    li.append(span(\n",
              "        `(${file.type || 'n/a'}) - ${file.size} bytes, ` +\n",
              "        `last modified: ${\n",
              "            file.lastModifiedDate ? file.lastModifiedDate.toLocaleDateString() :\n",
              "                                    'n/a'} - `));\n",
              "    const percent = span('0% done');\n",
              "    li.appendChild(percent);\n",
              "\n",
              "    outputElement.appendChild(li);\n",
              "\n",
              "    const fileDataPromise = new Promise((resolve) => {\n",
              "      const reader = new FileReader();\n",
              "      reader.onload = (e) => {\n",
              "        resolve(e.target.result);\n",
              "      };\n",
              "      reader.readAsArrayBuffer(file);\n",
              "    });\n",
              "    // Wait for the data to be ready.\n",
              "    let fileData = yield {\n",
              "      promise: fileDataPromise,\n",
              "      response: {\n",
              "        action: 'continue',\n",
              "      }\n",
              "    };\n",
              "\n",
              "    // Use a chunked sending to avoid message size limits. See b/62115660.\n",
              "    let position = 0;\n",
              "    do {\n",
              "      const length = Math.min(fileData.byteLength - position, MAX_PAYLOAD_SIZE);\n",
              "      const chunk = new Uint8Array(fileData, position, length);\n",
              "      position += length;\n",
              "\n",
              "      const base64 = btoa(String.fromCharCode.apply(null, chunk));\n",
              "      yield {\n",
              "        response: {\n",
              "          action: 'append',\n",
              "          file: file.name,\n",
              "          data: base64,\n",
              "        },\n",
              "      };\n",
              "\n",
              "      let percentDone = fileData.byteLength === 0 ?\n",
              "          100 :\n",
              "          Math.round((position / fileData.byteLength) * 100);\n",
              "      percent.textContent = `${percentDone}% done`;\n",
              "\n",
              "    } while (position < fileData.byteLength);\n",
              "  }\n",
              "\n",
              "  // All done.\n",
              "  yield {\n",
              "    response: {\n",
              "      action: 'complete',\n",
              "    }\n",
              "  };\n",
              "}\n",
              "\n",
              "scope.google = scope.google || {};\n",
              "scope.google.colab = scope.google.colab || {};\n",
              "scope.google.colab._files = {\n",
              "  _uploadFiles,\n",
              "  _uploadFilesContinue,\n",
              "};\n",
              "})(self);\n",
              "</script> "
            ]
          },
          "metadata": {}
        },
        {
          "output_type": "stream",
          "name": "stdout",
          "text": [
            "Saving clientes.csv to clientes.csv\n"
          ]
        }
      ]
    },
    {
      "cell_type": "code",
      "source": [
        "df = pd.read_csv('clientes.csv')"
      ],
      "metadata": {
        "id": "SAZqcBzlMEav"
      },
      "execution_count": 4,
      "outputs": []
    },
    {
      "cell_type": "code",
      "source": [
        "# Verificar os primeiros registros\n",
        "print(df.head().to_string())\n"
      ],
      "metadata": {
        "colab": {
          "base_uri": "https://localhost:8080/"
        },
        "id": "2MoqG6LjMi7a",
        "outputId": "eed8c76b-5450-4575-d3ae-a90f5c70c9cf",
        "collapsed": true
      },
      "execution_count": 5,
      "outputs": [
        {
          "output_type": "stream",
          "name": "stdout",
          "text": [
            "                      nome             cpf  idade        data                                                              endereco          estado    pais\n",
            "0  Sr. Vitor Gabriel Silva  640.719.385-01     90  06/12/1933           Trevo Emanuel Silva, 482\\nVila Tirol\\n47847085 Pereira / AP        Rondônia  Brasil\n",
            "1            Calebe Santos  651.297.384-46     40  06/03/1984         Recanto Moraes, 7\\nErnesto Nascimento\\n96497-621 da Rosa / PB  Rio de Janeiro  Brasil\n",
            "2             Evelyn Pires  107.643.528-90     80  09/03/1944       Travessa de Caldeira, 237\\nSanta Terezinha\\n84390313 Sales / TO         Sergipe  Brasil\n",
            "3       Maria Julia Castro  164.750.293-43     76  12/04/1947    Residencial de Pereira, 20\\nJatobá\\n62127-165 Gomes de Santos / AL      Pernambuco  Brasil\n",
            "4           Arthur da Rosa  085.167.249-30     53  16/04/1970  Parque Almeida, 66\\nVila Suzana Segunda Seção\\n09805-686 Santos / SE  Santa Catarina  Brasil\n"
          ]
        }
      ]
    },
    {
      "cell_type": "code",
      "source": [
        "print(df.tail().to_string())"
      ],
      "metadata": {
        "colab": {
          "base_uri": "https://localhost:8080/"
        },
        "id": "CjylqqanNhH0",
        "outputId": "bbea361d-12cf-4bde-fbbb-bc11a9fd5ab4",
        "collapsed": true
      },
      "execution_count": 6,
      "outputs": [
        {
          "output_type": "stream",
          "name": "stdout",
          "text": [
            "                  nome             cpf  idade        data                                                                        endereco          estado    pais\n",
            "1022       Lívia Nunes  742.380.591-23     49  14/03/1975  Passarela de Porto, 65\\nPousada Santo Antonio\\n35531-299 Mendes do Amparo / PI           Bahia  Brasil\n",
            "1023       Joana Silva  349.051.867-57     24  19/09/1999                   Chácara Miguel Fogaça\\nLaranjeiras\\n52800515 Souza Verde / PE      Pernambuco  Brasil\n",
            "1024       Luigi Porto  826.509.374-83     43  18/08/1980                        Parque de Santos, 88\\nSão João\\n60112-833 Rodrigues / PI  Espírito Santo  Brasil\n",
            "1025   Letícia da Mata  308.742.169-31     47  04/08/1976                      Aeroporto da Paz, 54\\nVila São Dimas\\n26750-505 Costa / PR  Rio de Janeiro  Brasil\n",
            "1026  Dr. Thomas Nunes  967.831.542-46     81  14/08/1942                           Vereda da Mota, 37\\nVila Da Luz\\n50836-481 Moura / SE           Piauí  Brasil\n"
          ]
        }
      ]
    },
    {
      "cell_type": "code",
      "source": [
        "# Verificar quantidade de linhas e colunas\n",
        "print('qtd: ', df.shape)"
      ],
      "metadata": {
        "colab": {
          "base_uri": "https://localhost:8080/"
        },
        "id": "zmJzcDjsNKTm",
        "outputId": "05c1954d-43ba-4ce4-baf9-3852c9298533"
      },
      "execution_count": 7,
      "outputs": [
        {
          "output_type": "stream",
          "name": "stdout",
          "text": [
            "qtd:  (1027, 7)\n"
          ]
        }
      ]
    },
    {
      "cell_type": "code",
      "source": [
        "# Verificar tipo de dados\n",
        "print('tipagem: ', df.dtypes)"
      ],
      "metadata": {
        "colab": {
          "base_uri": "https://localhost:8080/"
        },
        "id": "d9njLUNVNsmx",
        "outputId": "9b076546-3433-4db9-f176-c826ecdbd637",
        "collapsed": true
      },
      "execution_count": 8,
      "outputs": [
        {
          "output_type": "stream",
          "name": "stdout",
          "text": [
            "tipagem:  nome        object\n",
            "cpf         object\n",
            "idade        int64\n",
            "data        object\n",
            "endereco    object\n",
            "estado      object\n",
            "pais        object\n",
            "dtype: object\n"
          ]
        }
      ]
    },
    {
      "cell_type": "code",
      "source": [
        "# Checar Valores nulos\n",
        "print('Valores nulos:\\n' , df.isnull().sum())"
      ],
      "metadata": {
        "colab": {
          "base_uri": "https://localhost:8080/"
        },
        "id": "zsu9He-rN9nj",
        "outputId": "b6c69321-97f9-4875-b7d4-6fa7da25af21",
        "collapsed": true
      },
      "execution_count": 9,
      "outputs": [
        {
          "output_type": "stream",
          "name": "stdout",
          "text": [
            "Valores nulos:\n",
            " nome         3\n",
            "cpf          7\n",
            "idade        0\n",
            "data        10\n",
            "endereco     5\n",
            "estado       5\n",
            "pais         0\n",
            "dtype: int64\n"
          ]
        }
      ]
    },
    {
      "cell_type": "markdown",
      "source": [
        "# Estudo_lambda\n"
      ],
      "metadata": {
        "id": "MkCUyihTOlqQ"
      }
    },
    {
      "cell_type": "code",
      "source": [
        "def eleva_cubo(x):\n",
        "  return x**3\n",
        "\n",
        "print(eleva_cubo(2))"
      ],
      "metadata": {
        "colab": {
          "base_uri": "https://localhost:8080/"
        },
        "id": "0avpSCg5PbTe",
        "outputId": "2a668e8b-4c51-4b7c-e91f-76cce64d2a34",
        "collapsed": true
      },
      "execution_count": 10,
      "outputs": [
        {
          "output_type": "stream",
          "name": "stdout",
          "text": [
            "8\n"
          ]
        }
      ]
    },
    {
      "cell_type": "code",
      "source": [
        "# Expressão de Lambda para calcular o cubo de um numero\n",
        "eleva_cubo_lambda = lambda x: x**3\n",
        "\n",
        "print(eleva_cubo(2))\n",
        "print(eleva_cubo_lambda(2))"
      ],
      "metadata": {
        "colab": {
          "base_uri": "https://localhost:8080/"
        },
        "id": "YJfxFVCROrxM",
        "outputId": "11ea2cb7-16c6-4ab7-b71f-d79bfcacadb1"
      },
      "execution_count": 11,
      "outputs": [
        {
          "output_type": "stream",
          "name": "stdout",
          "text": [
            "8\n",
            "8\n"
          ]
        }
      ]
    },
    {
      "cell_type": "code",
      "source": [
        "df['cubo_lambda'] = df['idade'].apply(lambda x: x ** 3)\n",
        "print(df)"
      ],
      "metadata": {
        "colab": {
          "base_uri": "https://localhost:8080/"
        },
        "id": "lcn5ZW0XQLSx",
        "outputId": "aaace8bb-5f0d-4d67-ec3e-ba0648912649",
        "collapsed": true
      },
      "execution_count": 12,
      "outputs": [
        {
          "output_type": "stream",
          "name": "stdout",
          "text": [
            "                         nome             cpf  idade        data  \\\n",
            "0     Sr. Vitor Gabriel Silva  640.719.385-01     90  06/12/1933   \n",
            "1               Calebe Santos  651.297.384-46     40  06/03/1984   \n",
            "2                Evelyn Pires  107.643.528-90     80  09/03/1944   \n",
            "3          Maria Julia Castro  164.750.293-43     76  12/04/1947   \n",
            "4              Arthur da Rosa  085.167.249-30     53  16/04/1970   \n",
            "...                       ...             ...    ...         ...   \n",
            "1022              Lívia Nunes  742.380.591-23     49  14/03/1975   \n",
            "1023              Joana Silva  349.051.867-57     24  19/09/1999   \n",
            "1024              Luigi Porto  826.509.374-83     43  18/08/1980   \n",
            "1025          Letícia da Mata  308.742.169-31     47  04/08/1976   \n",
            "1026         Dr. Thomas Nunes  967.831.542-46     81  14/08/1942   \n",
            "\n",
            "                                               endereco          estado  \\\n",
            "0     Trevo Emanuel Silva, 482\\nVila Tirol\\n47847085...        Rondônia   \n",
            "1     Recanto Moraes, 7\\nErnesto Nascimento\\n96497-6...  Rio de Janeiro   \n",
            "2     Travessa de Caldeira, 237\\nSanta Terezinha\\n84...         Sergipe   \n",
            "3     Residencial de Pereira, 20\\nJatobá\\n62127-165 ...      Pernambuco   \n",
            "4     Parque Almeida, 66\\nVila Suzana Segunda Seção\\...  Santa Catarina   \n",
            "...                                                 ...             ...   \n",
            "1022  Passarela de Porto, 65\\nPousada Santo Antonio\\...           Bahia   \n",
            "1023  Chácara Miguel Fogaça\\nLaranjeiras\\n52800515 S...      Pernambuco   \n",
            "1024  Parque de Santos, 88\\nSão João\\n60112-833 Rodr...  Espírito Santo   \n",
            "1025  Aeroporto da Paz, 54\\nVila São Dimas\\n26750-50...  Rio de Janeiro   \n",
            "1026  Vereda da Mota, 37\\nVila Da Luz\\n50836-481 Mou...           Piauí   \n",
            "\n",
            "        pais  cubo_lambda  \n",
            "0     Brasil       729000  \n",
            "1     Brasil        64000  \n",
            "2     Brasil       512000  \n",
            "3     Brasil       438976  \n",
            "4     Brasil       148877  \n",
            "...      ...          ...  \n",
            "1022  Brasil       117649  \n",
            "1023  Brasil        13824  \n",
            "1024  Brasil        79507  \n",
            "1025  Brasil       103823  \n",
            "1026  Brasil       531441  \n",
            "\n",
            "[1027 rows x 8 columns]\n"
          ]
        }
      ]
    },
    {
      "cell_type": "code",
      "source": [
        "print(df.columns)"
      ],
      "metadata": {
        "colab": {
          "base_uri": "https://localhost:8080/"
        },
        "id": "B9Xorns9Qvnb",
        "outputId": "a46a579c-9827-4ee7-e827-11a8a2745e76",
        "collapsed": true
      },
      "execution_count": 13,
      "outputs": [
        {
          "output_type": "stream",
          "name": "stdout",
          "text": [
            "Index(['nome', 'cpf', 'idade', 'data', 'endereco', 'estado', 'pais',\n",
            "       'cubo_lambda'],\n",
            "      dtype='object')\n"
          ]
        }
      ]
    },
    {
      "cell_type": "markdown",
      "source": [
        "#Limpeza_dados"
      ],
      "metadata": {
        "id": "J-bNDQZtSDYW"
      }
    },
    {
      "cell_type": "code",
      "source": [
        "df = pd.read_csv('clientes.csv')"
      ],
      "metadata": {
        "id": "g85cJ4IYTPkq"
      },
      "execution_count": 14,
      "outputs": []
    },
    {
      "cell_type": "code",
      "source": [
        "pd.set_option('display.width', None)\n",
        "print(df.head)"
      ],
      "metadata": {
        "colab": {
          "base_uri": "https://localhost:8080/"
        },
        "id": "CXA4vPMjSIfw",
        "outputId": "76e8d919-737f-47e9-c5ce-1e3c663dd818",
        "collapsed": true
      },
      "execution_count": 15,
      "outputs": [
        {
          "output_type": "stream",
          "name": "stdout",
          "text": [
            "<bound method NDFrame.head of                          nome             cpf  idade        data  \\\n",
            "0     Sr. Vitor Gabriel Silva  640.719.385-01     90  06/12/1933   \n",
            "1               Calebe Santos  651.297.384-46     40  06/03/1984   \n",
            "2                Evelyn Pires  107.643.528-90     80  09/03/1944   \n",
            "3          Maria Julia Castro  164.750.293-43     76  12/04/1947   \n",
            "4              Arthur da Rosa  085.167.249-30     53  16/04/1970   \n",
            "...                       ...             ...    ...         ...   \n",
            "1022              Lívia Nunes  742.380.591-23     49  14/03/1975   \n",
            "1023              Joana Silva  349.051.867-57     24  19/09/1999   \n",
            "1024              Luigi Porto  826.509.374-83     43  18/08/1980   \n",
            "1025          Letícia da Mata  308.742.169-31     47  04/08/1976   \n",
            "1026         Dr. Thomas Nunes  967.831.542-46     81  14/08/1942   \n",
            "\n",
            "                                               endereco          estado  \\\n",
            "0     Trevo Emanuel Silva, 482\\nVila Tirol\\n47847085...        Rondônia   \n",
            "1     Recanto Moraes, 7\\nErnesto Nascimento\\n96497-6...  Rio de Janeiro   \n",
            "2     Travessa de Caldeira, 237\\nSanta Terezinha\\n84...         Sergipe   \n",
            "3     Residencial de Pereira, 20\\nJatobá\\n62127-165 ...      Pernambuco   \n",
            "4     Parque Almeida, 66\\nVila Suzana Segunda Seção\\...  Santa Catarina   \n",
            "...                                                 ...             ...   \n",
            "1022  Passarela de Porto, 65\\nPousada Santo Antonio\\...           Bahia   \n",
            "1023  Chácara Miguel Fogaça\\nLaranjeiras\\n52800515 S...      Pernambuco   \n",
            "1024  Parque de Santos, 88\\nSão João\\n60112-833 Rodr...  Espírito Santo   \n",
            "1025  Aeroporto da Paz, 54\\nVila São Dimas\\n26750-50...  Rio de Janeiro   \n",
            "1026  Vereda da Mota, 37\\nVila Da Luz\\n50836-481 Mou...           Piauí   \n",
            "\n",
            "        pais  \n",
            "0     Brasil  \n",
            "1     Brasil  \n",
            "2     Brasil  \n",
            "3     Brasil  \n",
            "4     Brasil  \n",
            "...      ...  \n",
            "1022  Brasil  \n",
            "1023  Brasil  \n",
            "1024  Brasil  \n",
            "1025  Brasil  \n",
            "1026  Brasil  \n",
            "\n",
            "[1027 rows x 7 columns]>\n"
          ]
        }
      ]
    },
    {
      "cell_type": "code",
      "source": [
        "df.drop('pais', axis=1, inplace=True) # coluna"
      ],
      "metadata": {
        "id": "-AJH0JSNTo3w"
      },
      "execution_count": 16,
      "outputs": []
    },
    {
      "cell_type": "code",
      "source": [
        "# Normalizar campo de texto\n",
        "df['nome'] = df['nome'].str.title()\n",
        "df['endereco'] = df['endereco'].str.lower()\n",
        "df['estado'] = df['estado'].str.strip().str.upper()\n",
        "print(df.head())"
      ],
      "metadata": {
        "colab": {
          "base_uri": "https://localhost:8080/"
        },
        "id": "DmkIR1GBT_4t",
        "outputId": "c24f59eb-03a7-4454-a4a3-9a571502a06a",
        "collapsed": true
      },
      "execution_count": 17,
      "outputs": [
        {
          "output_type": "stream",
          "name": "stdout",
          "text": [
            "                      nome             cpf  idade        data  \\\n",
            "0  Sr. Vitor Gabriel Silva  640.719.385-01     90  06/12/1933   \n",
            "1            Calebe Santos  651.297.384-46     40  06/03/1984   \n",
            "2             Evelyn Pires  107.643.528-90     80  09/03/1944   \n",
            "3       Maria Julia Castro  164.750.293-43     76  12/04/1947   \n",
            "4           Arthur Da Rosa  085.167.249-30     53  16/04/1970   \n",
            "\n",
            "                                            endereco          estado  \n",
            "0  trevo emanuel silva, 482\\nvila tirol\\n47847085...        RONDÔNIA  \n",
            "1  recanto moraes, 7\\nernesto nascimento\\n96497-6...  RIO DE JANEIRO  \n",
            "2  travessa de caldeira, 237\\nsanta terezinha\\n84...         SERGIPE  \n",
            "3  residencial de pereira, 20\\njatobá\\n62127-165 ...      PERNAMBUCO  \n",
            "4  parque almeida, 66\\nvila suzana segunda seção\\...  SANTA CATARINA  \n"
          ]
        }
      ]
    },
    {
      "cell_type": "code",
      "source": [
        "# Converter tipos de dados\n",
        "df['idade'] = df['idade'].astype(int)\n",
        "print(df.dtypes)"
      ],
      "metadata": {
        "colab": {
          "base_uri": "https://localhost:8080/"
        },
        "id": "pegixQapUs9Q",
        "outputId": "319acc42-0810-42cb-8c42-1dce6519f432",
        "collapsed": true
      },
      "execution_count": 18,
      "outputs": [
        {
          "output_type": "stream",
          "name": "stdout",
          "text": [
            "nome        object\n",
            "cpf         object\n",
            "idade        int64\n",
            "data        object\n",
            "endereco    object\n",
            "estado      object\n",
            "dtype: object\n"
          ]
        }
      ]
    },
    {
      "cell_type": "code",
      "source": [
        "# Tratar Valores Nulos\n",
        "df_fillna = df.fillna(0) # Subistituir valores nulos por 0\n",
        "df_dropna = df.dropna() # Remover linhas com valores nulos\n",
        "df_dropna4 = df.dropna(thresh=4) # Remover linhas com menos de 4 valores válidos\n",
        "df_ = df.dropna(subset=['cpf']) # Remover registro com cpf nulo\n",
        "\n",
        "\n",
        "print('Valores nulos:\\n', df.isnull().sum())\n",
        "print('qtd de resgistros nulos com fillna:\\n', df_fillna.isnull().sum().sum())\n",
        "print('qtd de resgistros nulos com dropna:\\n', df_dropna.isnull().sum().sum())\n",
        "print('qtd de resgistros nulos com dropna4:\\n', df_dropna4.isnull().sum().sum())\n",
        "print('qtd de resgistros nulos com cpf:\\n', df_.isnull().sum().sum())\n",
        "\n",
        "df.fillna({'estado': 'Desconhecido'}, inplace=True)\n",
        "df['endereco'] = df['endereco'].fillna('Endereço não informado')\n",
        "df['idade_corrigida'] = df['idade'].fillna(df['idade'].mean())"
      ],
      "metadata": {
        "colab": {
          "base_uri": "https://localhost:8080/"
        },
        "id": "VoQYkLlzViY-",
        "outputId": "9d576a50-04a8-4882-cd25-81e8c0186e6c",
        "collapsed": true
      },
      "execution_count": 19,
      "outputs": [
        {
          "output_type": "stream",
          "name": "stdout",
          "text": [
            "Valores nulos:\n",
            " nome         3\n",
            "cpf          7\n",
            "idade        0\n",
            "data        10\n",
            "endereco     5\n",
            "estado       5\n",
            "dtype: int64\n",
            "qtd de resgistros nulos com fillna:\n",
            " 0\n",
            "qtd de resgistros nulos com dropna:\n",
            " 0\n",
            "qtd de resgistros nulos com dropna4:\n",
            " 30\n",
            "qtd de resgistros nulos com cpf:\n",
            " 22\n"
          ]
        }
      ]
    },
    {
      "cell_type": "code",
      "source": [
        "# Tratar formato de dados\n",
        "df['data_corrigida'] = pd.to_datetime(df['data'], format='%d/%m/%Y', errors='coerce')\n",
        "print(df.dtypes)"
      ],
      "metadata": {
        "colab": {
          "base_uri": "https://localhost:8080/"
        },
        "id": "_4WPh6sQZ3Bk",
        "outputId": "1f476749-46dd-4959-f60e-6094303fa6dd",
        "collapsed": true
      },
      "execution_count": 20,
      "outputs": [
        {
          "output_type": "stream",
          "name": "stdout",
          "text": [
            "nome                       object\n",
            "cpf                        object\n",
            "idade                       int64\n",
            "data                       object\n",
            "endereco                   object\n",
            "estado                     object\n",
            "idade_corrigida             int64\n",
            "data_corrigida     datetime64[ns]\n",
            "dtype: object\n"
          ]
        }
      ]
    },
    {
      "cell_type": "code",
      "source": [
        "# Tratar dados duplicados\n",
        "print('Qtd registros atual:', df.shape)\n",
        "df.drop_duplicates\n",
        "df.drop_duplicates(subset=['cpf'], inplace=True)\n",
        "print('Qtd registros atual:', df.shape)\n",
        "\n"
      ],
      "metadata": {
        "colab": {
          "base_uri": "https://localhost:8080/"
        },
        "id": "N9yVvn3Mao9F",
        "outputId": "8c4dd721-1c94-4c2c-d9e6-8b8441a7f239",
        "collapsed": true
      },
      "execution_count": 21,
      "outputs": [
        {
          "output_type": "stream",
          "name": "stdout",
          "text": [
            "Qtd registros atual: (1027, 8)\n",
            "Qtd registros atual: (1012, 8)\n"
          ]
        }
      ]
    },
    {
      "cell_type": "code",
      "source": [
        "print('Dados limpos:\\n', df)"
      ],
      "metadata": {
        "colab": {
          "base_uri": "https://localhost:8080/"
        },
        "id": "8vMFpiHqbdAQ",
        "outputId": "4525378a-fae7-4bc6-be05-96b2704d539f",
        "collapsed": true
      },
      "execution_count": 22,
      "outputs": [
        {
          "output_type": "stream",
          "name": "stdout",
          "text": [
            "Dados limpos:\n",
            "                          nome             cpf  idade        data  \\\n",
            "0     Sr. Vitor Gabriel Silva  640.719.385-01     90  06/12/1933   \n",
            "1               Calebe Santos  651.297.384-46     40  06/03/1984   \n",
            "2                Evelyn Pires  107.643.528-90     80  09/03/1944   \n",
            "3          Maria Julia Castro  164.750.293-43     76  12/04/1947   \n",
            "4              Arthur Da Rosa  085.167.249-30     53  16/04/1970   \n",
            "...                       ...             ...    ...         ...   \n",
            "1013            Eloah Peixoto  064.917.253-16     79  23/05/1944   \n",
            "1014              Luiza Sales  726.431.850-80     55  01/05/1968   \n",
            "1015      Dr. Alexandre Sales  427.398.061-40     87  05/06/1936   \n",
            "1016            Alícia Campos  162.790.485-94     49  20/03/1975   \n",
            "1024              Luigi Porto  826.509.374-83     43  18/08/1980   \n",
            "\n",
            "                                               endereco             estado  \\\n",
            "0     trevo emanuel silva, 482\\nvila tirol\\n47847085...           RONDÔNIA   \n",
            "1     recanto moraes, 7\\nernesto nascimento\\n96497-6...     RIO DE JANEIRO   \n",
            "2     travessa de caldeira, 237\\nsanta terezinha\\n84...            SERGIPE   \n",
            "3     residencial de pereira, 20\\njatobá\\n62127-165 ...         PERNAMBUCO   \n",
            "4     parque almeida, 66\\nvila suzana segunda seção\\...     SANTA CATARINA   \n",
            "...                                                 ...                ...   \n",
            "1013  rua não cadastrada\\nbairro não cadastrado\\n000...            SERGIPE   \n",
            "1014  rua não cadastrada\\nbairro não cadastrado\\n000...  RIO GRANDE DO SUL   \n",
            "1015  rua não cadastrada\\nbairro não cadastrado\\n000...          SÃO PAULO   \n",
            "1016  rua não cadastrada\\nbairro não cadastrado\\n000...              PIAUÍ   \n",
            "1024  parque de santos, 88\\nsão joão\\n60112-833 rodr...     ESPÍRITO SANTO   \n",
            "\n",
            "      idade_corrigida data_corrigida  \n",
            "0                  90     1933-12-06  \n",
            "1                  40     1984-03-06  \n",
            "2                  80     1944-03-09  \n",
            "3                  76     1947-04-12  \n",
            "4                  53     1970-04-16  \n",
            "...               ...            ...  \n",
            "1013               79     1944-05-23  \n",
            "1014               55     1968-05-01  \n",
            "1015               87     1936-06-05  \n",
            "1016               49     1975-03-20  \n",
            "1024               43     1980-08-18  \n",
            "\n",
            "[1012 rows x 8 columns]\n"
          ]
        }
      ]
    },
    {
      "cell_type": "code",
      "source": [
        "# Salvar dataframe\n",
        "df['data'] = df['data_corrigida']\n",
        "df['idade'] = df['idade_corrigida']\n",
        "\n",
        "df_salvar = df[['nome', 'cpf', 'idade', 'data', 'endereco', 'estado']]\n",
        "df_salvar.to_csv('clientes_limpeza.csv', index=False)"
      ],
      "metadata": {
        "id": "WEkpHlLTbo7W"
      },
      "execution_count": 23,
      "outputs": []
    },
    {
      "cell_type": "code",
      "source": [
        "print('Novo dataframe: \\n', pd.read_csv('clientes_limpeza.csv'))"
      ],
      "metadata": {
        "colab": {
          "base_uri": "https://localhost:8080/"
        },
        "id": "EbH4q7Itcq0M",
        "outputId": "33bfe7dc-12b6-4ea6-9f33-08bdc05a15f9",
        "collapsed": true
      },
      "execution_count": 24,
      "outputs": [
        {
          "output_type": "stream",
          "name": "stdout",
          "text": [
            "Novo dataframe: \n",
            "                          nome             cpf  idade        data  \\\n",
            "0     Sr. Vitor Gabriel Silva  640.719.385-01     90  1933-12-06   \n",
            "1               Calebe Santos  651.297.384-46     40  1984-03-06   \n",
            "2                Evelyn Pires  107.643.528-90     80  1944-03-09   \n",
            "3          Maria Julia Castro  164.750.293-43     76  1947-04-12   \n",
            "4              Arthur Da Rosa  085.167.249-30     53  1970-04-16   \n",
            "...                       ...             ...    ...         ...   \n",
            "1007            Eloah Peixoto  064.917.253-16     79  1944-05-23   \n",
            "1008              Luiza Sales  726.431.850-80     55  1968-05-01   \n",
            "1009      Dr. Alexandre Sales  427.398.061-40     87  1936-06-05   \n",
            "1010            Alícia Campos  162.790.485-94     49  1975-03-20   \n",
            "1011              Luigi Porto  826.509.374-83     43  1980-08-18   \n",
            "\n",
            "                                               endereco             estado  \n",
            "0     trevo emanuel silva, 482\\nvila tirol\\n47847085...           RONDÔNIA  \n",
            "1     recanto moraes, 7\\nernesto nascimento\\n96497-6...     RIO DE JANEIRO  \n",
            "2     travessa de caldeira, 237\\nsanta terezinha\\n84...            SERGIPE  \n",
            "3     residencial de pereira, 20\\njatobá\\n62127-165 ...         PERNAMBUCO  \n",
            "4     parque almeida, 66\\nvila suzana segunda seção\\...     SANTA CATARINA  \n",
            "...                                                 ...                ...  \n",
            "1007  rua não cadastrada\\nbairro não cadastrado\\n000...            SERGIPE  \n",
            "1008  rua não cadastrada\\nbairro não cadastrado\\n000...  RIO GRANDE DO SUL  \n",
            "1009  rua não cadastrada\\nbairro não cadastrado\\n000...          SÃO PAULO  \n",
            "1010  rua não cadastrada\\nbairro não cadastrado\\n000...              PIAUÍ  \n",
            "1011  parque de santos, 88\\nsão joão\\n60112-833 rodr...     ESPÍRITO SANTO  \n",
            "\n",
            "[1012 rows x 6 columns]\n"
          ]
        }
      ]
    },
    {
      "cell_type": "markdown",
      "source": [
        "# Outliers\n",
        "\n",
        "\n"
      ],
      "metadata": {
        "id": "FuwMA3Zhd7Su"
      }
    },
    {
      "cell_type": "code",
      "source": [
        "!pip install pandas"
      ],
      "metadata": {
        "colab": {
          "base_uri": "https://localhost:8080/"
        },
        "collapsed": true,
        "id": "fzjgeUf1d_2p",
        "outputId": "21309ed3-6c39-4dab-eb95-fad92e84e2b1"
      },
      "execution_count": 25,
      "outputs": [
        {
          "output_type": "stream",
          "name": "stdout",
          "text": [
            "Requirement already satisfied: pandas in /usr/local/lib/python3.11/dist-packages (2.2.2)\n",
            "Requirement already satisfied: numpy>=1.23.2 in /usr/local/lib/python3.11/dist-packages (from pandas) (2.0.2)\n",
            "Requirement already satisfied: python-dateutil>=2.8.2 in /usr/local/lib/python3.11/dist-packages (from pandas) (2.9.0.post0)\n",
            "Requirement already satisfied: pytz>=2020.1 in /usr/local/lib/python3.11/dist-packages (from pandas) (2025.2)\n",
            "Requirement already satisfied: tzdata>=2022.7 in /usr/local/lib/python3.11/dist-packages (from pandas) (2025.2)\n",
            "Requirement already satisfied: six>=1.5 in /usr/local/lib/python3.11/dist-packages (from python-dateutil>=2.8.2->pandas) (1.17.0)\n"
          ]
        }
      ]
    },
    {
      "cell_type": "code",
      "source": [
        "import pandas as pd\n",
        "from scipy import stats"
      ],
      "metadata": {
        "id": "JdhxxHEAeJ9m"
      },
      "execution_count": 26,
      "outputs": []
    },
    {
      "cell_type": "code",
      "source": [
        "pd.set_option('display.width', None)\n"
      ],
      "metadata": {
        "id": "KXR6mzzyeSB0"
      },
      "execution_count": 27,
      "outputs": []
    },
    {
      "cell_type": "code",
      "source": [
        "df = pd.read_csv('clientes_limpeza.csv')"
      ],
      "metadata": {
        "id": "gKMe7Anheq9c"
      },
      "execution_count": 28,
      "outputs": []
    },
    {
      "cell_type": "code",
      "source": [
        "df_filtro_basico = df[df['idade'] > 100]\n",
        "\n",
        "\n",
        "print('Filtro básico \\n', df_filtro_basico[['nome', 'idade']])"
      ],
      "metadata": {
        "colab": {
          "base_uri": "https://localhost:8080/"
        },
        "collapsed": true,
        "id": "acdNYt84exZ-",
        "outputId": "ac5f7330-de36-4ce8-d589-7eade91bf245"
      },
      "execution_count": 29,
      "outputs": [
        {
          "output_type": "stream",
          "name": "stdout",
          "text": [
            "Filtro básico \n",
            "                      nome  idade\n",
            "965     João Miguel Moura    129\n",
            "966     Ana Júlia Cardoso    106\n",
            "967      Stella Rodrigues    126\n",
            "970  Ana Beatriz Teixeira    108\n",
            "973         Beatriz Nunes    129\n",
            "974         Raquel Campos    124\n",
            "975     Alícia Nascimento    111\n",
            "976    Maria Julia Vieira    119\n",
            "979       Julia Das Neves    122\n",
            "980       Kamilly Rezende    140\n",
            "985             João Melo   5225\n",
            "986           Eloah Viana   8890\n",
            "987       Catarina Vieira   6850\n",
            "989          Júlia Araújo   4068\n",
            "990         Enrico Aragão   2841\n",
            "993       Samuel Caldeira   3324\n"
          ]
        }
      ]
    },
    {
      "cell_type": "code",
      "source": [
        "# Indentificar Outliers com Z-score\n",
        "z_scores = stats.zscore(df['idade'].dropna())\n",
        "outliers_z = df[z_scores >= 3]\n",
        "\n",
        "print(\"outliers pelo Z-scores:\\n\", outliers_z)"
      ],
      "metadata": {
        "colab": {
          "base_uri": "https://localhost:8080/"
        },
        "collapsed": true,
        "id": "v0HZwy4OgmD9",
        "outputId": "082073e9-c998-4c04-a772-85899150ab22"
      },
      "execution_count": 30,
      "outputs": [
        {
          "output_type": "stream",
          "name": "stdout",
          "text": [
            "outliers pelo Z-scores:\n",
            "                 nome             cpf  idade data  \\\n",
            "985        João Melo  053.946.781-20   5225  NaN   \n",
            "986      Eloah Viana  694.108.237-22   8890  NaN   \n",
            "987  Catarina Vieira  631.847.925-28   6850  NaN   \n",
            "989     Júlia Araújo  324.091.587-14   4068  NaN   \n",
            "990    Enrico Aragão  496.017.253-34   2841  NaN   \n",
            "993  Samuel Caldeira  801.726.935-86   3324  NaN   \n",
            "\n",
            "                                              endereco             estado  \n",
            "985  via de santos, 172\\njardinópolis\\n11026-705 ca...            ALAGOAS  \n",
            "986  chácara isabella melo, 9\\nengenho nogueira\\n48...            PARAÍBA  \n",
            "987  lagoa moraes, 1\\nfazendinha\\n30786-621 nunes / go              AMAPÁ  \n",
            "989  passarela de alves, 45\\nconjunto celso machado...               PARÁ  \n",
            "990  trevo de porto\\njardim leblon\\n25265042 costel...         PERNAMBUCO  \n",
            "993  campo monteiro\\ncabana do pai tomás\\n43706555 ...  RIO GRANDE DO SUL  \n"
          ]
        }
      ]
    },
    {
      "cell_type": "code",
      "source": [
        "# Filtra Outliers com Z-score\n",
        "df_zscores = df[(stats.zscore(df['idade']) < 3)]"
      ],
      "metadata": {
        "id": "_0Ru5BjDphWG"
      },
      "execution_count": 32,
      "outputs": []
    },
    {
      "cell_type": "code",
      "source": [
        "# Identificar Outliers com IQR\n",
        "Q1 = df['idade'].quantile(0.25)\n",
        "Q3 = df['idade'].quantile(0.75)\n",
        "IQR = Q3 - Q1\n",
        "\n",
        "limite_baixo = Q1 - 1.5 * IQR\n",
        "limite_alto = Q3 + 1.5 * IQR\n",
        "\n",
        "print(\"Limites IQR:\", limite_baixo, limite_alto)\n",
        "\n",
        "outliers_iqr = df[(df['idade'] < limite_baixo) | (df['idade'] > limite_alto)]\n",
        "print(\"Outliers pelo IQR:\\n\", outliers_iqr)"
      ],
      "metadata": {
        "colab": {
          "base_uri": "https://localhost:8080/"
        },
        "id": "0NsfoTCbsZyC",
        "outputId": "400599cb-a45e-4158-de97-3c328478c297",
        "collapsed": true
      },
      "execution_count": 33,
      "outputs": [
        {
          "output_type": "stream",
          "name": "stdout",
          "text": [
            "Limites IQR: -23.5 140.5\n",
            "Outliers pelo IQR:\n",
            "                       nome             cpf  idade data  \\\n",
            "985              João Melo  053.946.781-20   5225  NaN   \n",
            "986            Eloah Viana  694.108.237-22   8890  NaN   \n",
            "987        Catarina Vieira  631.847.925-28   6850  NaN   \n",
            "988  Dra. Emanuelly Da Luz  549.076.831-20   -398  NaN   \n",
            "989           Júlia Araújo  324.091.587-14   4068  NaN   \n",
            "990          Enrico Aragão  496.017.253-34   2841  NaN   \n",
            "991        Sr. Bruno Pires  428.176.095-49   -283  NaN   \n",
            "992        Daniela Freitas  786.951.432-28   -620  NaN   \n",
            "993        Samuel Caldeira  801.726.935-86   3324  NaN   \n",
            "\n",
            "                                              endereco             estado  \n",
            "985  via de santos, 172\\njardinópolis\\n11026-705 ca...            ALAGOAS  \n",
            "986  chácara isabella melo, 9\\nengenho nogueira\\n48...            PARAÍBA  \n",
            "987  lagoa moraes, 1\\nfazendinha\\n30786-621 nunes / go              AMAPÁ  \n",
            "988  trevo peixoto, 13\\njardim alvorada\\n88114547 m...              AMAPÁ  \n",
            "989  passarela de alves, 45\\nconjunto celso machado...               PARÁ  \n",
            "990  trevo de porto\\njardim leblon\\n25265042 costel...         PERNAMBUCO  \n",
            "991  quadra pinto, 896\\nnova gameleira\\n15951-609 d...         PERNAMBUCO  \n",
            "992  aeroporto de pires, 59\\nnossa senhora da conce...           RONDÔNIA  \n",
            "993  campo monteiro\\ncabana do pai tomás\\n43706555 ...  RIO GRANDE DO SUL  \n"
          ]
        }
      ]
    },
    {
      "cell_type": "code",
      "source": [
        "#Filtra Outliers com IQR\n",
        "df_iqr = df[(df['idade'] >= limite_baixo) & (df['idade'] <= limite_alto)]"
      ],
      "metadata": {
        "id": "g5K-dQFrt6A_"
      },
      "execution_count": 34,
      "outputs": []
    },
    {
      "cell_type": "code",
      "source": [
        "# Filtra endereço inválido\n",
        "df['endereco'] = df['endereco'].apply(lambda x: 'Endereço não inválido' if len(x.split('\\n')) < 3 else x)"
      ],
      "metadata": {
        "id": "Bi5gVvk_uXpe"
      },
      "execution_count": 35,
      "outputs": []
    },
    {
      "cell_type": "code",
      "source": [
        "#Tratar campo de texto\n",
        "df['nome'] = df['nome'].apply(lambda x: 'Nome inválido' if isinstance(x, str) and len(x) > 50 else x)\n",
        "print('Qtd registro com nomes grandes:', (df['nome'] == 'Nome inválido').sum())"
      ],
      "metadata": {
        "colab": {
          "base_uri": "https://localhost:8080/"
        },
        "id": "JPJTrBQHvcnn",
        "outputId": "6feb55ea-90e7-4608-8789-a324faa80d40",
        "collapsed": true
      },
      "execution_count": 36,
      "outputs": [
        {
          "output_type": "stream",
          "name": "stdout",
          "text": [
            "Qtd registro com nomes grandes: 2\n"
          ]
        }
      ]
    },
    {
      "cell_type": "code",
      "source": [
        "print('Dados com outliers tratados:\\n', df)"
      ],
      "metadata": {
        "colab": {
          "base_uri": "https://localhost:8080/"
        },
        "id": "6_k6JHUzxBcc",
        "outputId": "5648a421-e98b-470e-e971-83c6a759a935",
        "collapsed": true
      },
      "execution_count": 37,
      "outputs": [
        {
          "output_type": "stream",
          "name": "stdout",
          "text": [
            "Dados com outliers tratados:\n",
            "                          nome             cpf  idade        data  \\\n",
            "0     Sr. Vitor Gabriel Silva  640.719.385-01     90  1933-12-06   \n",
            "1               Calebe Santos  651.297.384-46     40  1984-03-06   \n",
            "2                Evelyn Pires  107.643.528-90     80  1944-03-09   \n",
            "3          Maria Julia Castro  164.750.293-43     76  1947-04-12   \n",
            "4              Arthur Da Rosa  085.167.249-30     53  1970-04-16   \n",
            "...                       ...             ...    ...         ...   \n",
            "1007            Eloah Peixoto  064.917.253-16     79  1944-05-23   \n",
            "1008              Luiza Sales  726.431.850-80     55  1968-05-01   \n",
            "1009      Dr. Alexandre Sales  427.398.061-40     87  1936-06-05   \n",
            "1010            Alícia Campos  162.790.485-94     49  1975-03-20   \n",
            "1011              Luigi Porto  826.509.374-83     43  1980-08-18   \n",
            "\n",
            "                                               endereco             estado  \n",
            "0     trevo emanuel silva, 482\\nvila tirol\\n47847085...           RONDÔNIA  \n",
            "1     recanto moraes, 7\\nernesto nascimento\\n96497-6...     RIO DE JANEIRO  \n",
            "2     travessa de caldeira, 237\\nsanta terezinha\\n84...            SERGIPE  \n",
            "3     residencial de pereira, 20\\njatobá\\n62127-165 ...         PERNAMBUCO  \n",
            "4     parque almeida, 66\\nvila suzana segunda seção\\...     SANTA CATARINA  \n",
            "...                                                 ...                ...  \n",
            "1007  rua não cadastrada\\nbairro não cadastrado\\n000...            SERGIPE  \n",
            "1008  rua não cadastrada\\nbairro não cadastrado\\n000...  RIO GRANDE DO SUL  \n",
            "1009  rua não cadastrada\\nbairro não cadastrado\\n000...          SÃO PAULO  \n",
            "1010  rua não cadastrada\\nbairro não cadastrado\\n000...              PIAUÍ  \n",
            "1011  parque de santos, 88\\nsão joão\\n60112-833 rodr...     ESPÍRITO SANTO  \n",
            "\n",
            "[1012 rows x 6 columns]\n"
          ]
        }
      ]
    },
    {
      "cell_type": "code",
      "source": [
        "# Salvar Dataframe\n",
        "df.to_csv('clientes_remove_outliers.csv', index=False)"
      ],
      "metadata": {
        "id": "zTOTpjd4xVcw"
      },
      "execution_count": 38,
      "outputs": []
    },
    {
      "cell_type": "code",
      "source": [
        "!pip install pandas"
      ],
      "metadata": {
        "colab": {
          "base_uri": "https://localhost:8080/"
        },
        "id": "TtMEYgluV5fg",
        "outputId": "d4a77189-5b5b-4b8b-c807-b164838c254c"
      },
      "execution_count": 39,
      "outputs": [
        {
          "output_type": "stream",
          "name": "stdout",
          "text": [
            "Requirement already satisfied: pandas in /usr/local/lib/python3.11/dist-packages (2.2.2)\n",
            "Requirement already satisfied: numpy>=1.23.2 in /usr/local/lib/python3.11/dist-packages (from pandas) (2.0.2)\n",
            "Requirement already satisfied: python-dateutil>=2.8.2 in /usr/local/lib/python3.11/dist-packages (from pandas) (2.9.0.post0)\n",
            "Requirement already satisfied: pytz>=2020.1 in /usr/local/lib/python3.11/dist-packages (from pandas) (2025.2)\n",
            "Requirement already satisfied: tzdata>=2022.7 in /usr/local/lib/python3.11/dist-packages (from pandas) (2025.2)\n",
            "Requirement already satisfied: six>=1.5 in /usr/local/lib/python3.11/dist-packages (from python-dateutil>=2.8.2->pandas) (1.17.0)\n"
          ]
        }
      ]
    },
    {
      "cell_type": "markdown",
      "source": [
        " # Inconsistencias\n",
        "\n",
        "\n",
        "\n",
        "\n",
        ""
      ],
      "metadata": {
        "id": "u5rw4wjvYp70"
      }
    },
    {
      "cell_type": "code",
      "source": [
        "!pip install numpy"
      ],
      "metadata": {
        "colab": {
          "base_uri": "https://localhost:8080/"
        },
        "id": "bxQt1x7AV9b0",
        "outputId": "f6df3f1c-e2bd-4588-8ebb-99817ca69d98"
      },
      "execution_count": 41,
      "outputs": [
        {
          "output_type": "stream",
          "name": "stdout",
          "text": [
            "Requirement already satisfied: numpy in /usr/local/lib/python3.11/dist-packages (2.0.2)\n"
          ]
        }
      ]
    },
    {
      "cell_type": "code",
      "source": [
        "import pandas as pd\n",
        "import numpy as np"
      ],
      "metadata": {
        "id": "yAitll0TWCI2"
      },
      "execution_count": 42,
      "outputs": []
    },
    {
      "cell_type": "code",
      "source": [
        "pd.set_option('display.width', None)\n",
        "pd.set_option('display.max_colwidth', None)\n",
        "\n",
        "df = pd.read_csv('clientes_remove_outliers.csv')\n",
        "\n",
        "print(df.head())"
      ],
      "metadata": {
        "colab": {
          "base_uri": "https://localhost:8080/"
        },
        "id": "JeoRbs5AWI4I",
        "outputId": "dbd0cb21-4c93-401e-a087-9ecf6464803c"
      },
      "execution_count": 44,
      "outputs": [
        {
          "output_type": "stream",
          "name": "stdout",
          "text": [
            "                      nome             cpf  idade        data  \\\n",
            "0  Sr. Vitor Gabriel Silva  640.719.385-01     90  1933-12-06   \n",
            "1            Calebe Santos  651.297.384-46     40  1984-03-06   \n",
            "2             Evelyn Pires  107.643.528-90     80  1944-03-09   \n",
            "3       Maria Julia Castro  164.750.293-43     76  1947-04-12   \n",
            "4           Arthur Da Rosa  085.167.249-30     53  1970-04-16   \n",
            "\n",
            "                                                               endereco  \\\n",
            "0           trevo emanuel silva, 482\\nvila tirol\\n47847085 pereira / ap   \n",
            "1         recanto moraes, 7\\nernesto nascimento\\n96497-621 da rosa / pb   \n",
            "2       travessa de caldeira, 237\\nsanta terezinha\\n84390313 sales / to   \n",
            "3    residencial de pereira, 20\\njatobá\\n62127-165 gomes de santos / al   \n",
            "4  parque almeida, 66\\nvila suzana segunda seção\\n09805-686 santos / se   \n",
            "\n",
            "           estado  \n",
            "0        RONDÔNIA  \n",
            "1  RIO DE JANEIRO  \n",
            "2         SERGIPE  \n",
            "3      PERNAMBUCO  \n",
            "4  SANTA CATARINA  \n"
          ]
        }
      ]
    },
    {
      "cell_type": "code",
      "source": [
        "# Mascara Dados Pessoais\n",
        "# Convert the 'cpf' column to string type, handling potential NaN values\n",
        "df['cpf_mascara'] = df['cpf'].astype(str).apply(lambda cpf: f'{cpf[:3]}.***.***-{cpf[-2:]}' if cpf != 'nan' else 'CPF não informado')"
      ],
      "metadata": {
        "id": "hkmHw9tcXFYk"
      },
      "execution_count": 51,
      "outputs": []
    },
    {
      "cell_type": "code",
      "source": [
        "# Corrigir data\n",
        "df['data'] = pd.to_datetime(df['data'], format='%d/%m/%Y', errors='coerce')\n",
        "\n",
        "data_atual = pd.to_datetime('today')\n",
        "# Corrected the typo from pd.to_datatime to pd.to_datetime\n",
        "df['data_atualizada'] = df['data'].where(df['data']<=data_atual, pd.to_datetime('1900-01-01'))\n",
        "df['idade_ajustada'] = data_atual.year - df['data_atualizada'].dt.year\n",
        "df['idade_ajustada'] -= ((data_atual.month <= df['data_atualizada'].dt.month) & (data_atual.day < df['data_atualizada'].dt.day)).astype(int)\n",
        "df.loc[df['idade_ajustada'] < 100, 'idade_ajustada'] = np.nan"
      ],
      "metadata": {
        "id": "LWwLUSM0efNo"
      },
      "execution_count": 53,
      "outputs": []
    },
    {
      "cell_type": "code",
      "source": [
        "# Corrigir campo com múltiplas informações\n",
        "df['endereco_curto'] = df['endereco'].apply(lambda x: x.split('\\n')[0].strip())\n",
        "df['bairro'] = df['endereco'].apply(lambda x: x.split('\\n')[1].strip() if len(x.split('\\n')) > 1 else 'desconhecido')\n",
        "df['estado_sigla'] = df['endereco'].apply(lambda x: x.split('\\n')[-1].strip() if len(x.split('\\n')) > 2 else 'desconhecido')"
      ],
      "metadata": {
        "id": "xzlnWB6qmMa0"
      },
      "execution_count": 54,
      "outputs": []
    },
    {
      "cell_type": "code",
      "source": [
        "# Verificar formato de endereço\n",
        "df['endereco_curto'] = df['endereco_curto'].apply(lambda x: 'Endereço inválido' if len(x) > 50 or len(x) < 5 else x)"
      ],
      "metadata": {
        "id": "JAnpJ0mOmW7y"
      },
      "execution_count": 55,
      "outputs": []
    },
    {
      "cell_type": "code",
      "source": [
        "df['cpf'] = df['cpf'].apply(lambda x: x if len(str(x)) == 14 else 'CPF inválido')"
      ],
      "metadata": {
        "id": "dvGVGaCqptNG"
      },
      "execution_count": 58,
      "outputs": []
    },
    {
      "cell_type": "code",
      "source": [
        "print('Dados tratados:\\n', df.head())"
      ],
      "metadata": {
        "colab": {
          "base_uri": "https://localhost:8080/"
        },
        "id": "NVthui8rp0fN",
        "outputId": "15b26ed9-c264-4a9f-d7b3-2c29b9c10ae2"
      },
      "execution_count": 59,
      "outputs": [
        {
          "output_type": "stream",
          "name": "stdout",
          "text": [
            "Dados tratados:\n",
            "                       nome             cpf  idade data  \\\n",
            "0  Sr. Vitor Gabriel Silva  640.719.385-01     90  NaT   \n",
            "1            Calebe Santos  651.297.384-46     40  NaT   \n",
            "2             Evelyn Pires  107.643.528-90     80  NaT   \n",
            "3       Maria Julia Castro  164.750.293-43     76  NaT   \n",
            "4           Arthur Da Rosa  085.167.249-30     53  NaT   \n",
            "\n",
            "                                                               endereco  \\\n",
            "0           trevo emanuel silva, 482\\nvila tirol\\n47847085 pereira / ap   \n",
            "1         recanto moraes, 7\\nernesto nascimento\\n96497-621 da rosa / pb   \n",
            "2       travessa de caldeira, 237\\nsanta terezinha\\n84390313 sales / to   \n",
            "3    residencial de pereira, 20\\njatobá\\n62127-165 gomes de santos / al   \n",
            "4  parque almeida, 66\\nvila suzana segunda seção\\n09805-686 santos / se   \n",
            "\n",
            "           estado data_corrigida data_atualizada     cpf_mascara  \\\n",
            "0        RONDÔNIA            NaT      1900-01-01  640.***.***-01   \n",
            "1  RIO DE JANEIRO            NaT      1900-01-01  651.***.***-46   \n",
            "2         SERGIPE            NaT      1900-01-01  107.***.***-90   \n",
            "3      PERNAMBUCO            NaT      1900-01-01  164.***.***-43   \n",
            "4  SANTA CATARINA            NaT      1900-01-01  085.***.***-30   \n",
            "\n",
            "   idade_ajustada              endereco_curto                     bairro  \\\n",
            "0           125.0    trevo emanuel silva, 482                 vila tirol   \n",
            "1           125.0           recanto moraes, 7         ernesto nascimento   \n",
            "2           125.0   travessa de caldeira, 237            santa terezinha   \n",
            "3           125.0  residencial de pereira, 20                     jatobá   \n",
            "4           125.0          parque almeida, 66  vila suzana segunda seção   \n",
            "\n",
            "                     estado_sigla  \n",
            "0           47847085 pereira / ap  \n",
            "1          96497-621 da rosa / pb  \n",
            "2             84390313 sales / to  \n",
            "3  62127-165 gomes de santos / al  \n",
            "4           09805-686 santos / se  \n"
          ]
        }
      ]
    },
    {
      "cell_type": "code",
      "source": [
        "df['cpf'] = df['cpf_mascara']\n",
        "df['data'] = df['data_atualizada']\n",
        "df['idade'] = df['idade_ajustada']\n",
        "df['endereco'] = df['endereco_curto']\n",
        "df_salvar = df[['nome', 'cpf', 'idade', 'data', 'endereco', 'bairro', 'estado']]\n",
        "df_salvar.to_csv('clientes_tratados.csv', index=False)\n",
        "\n",
        "print('Novo dataframe: \\n', pd.read_csv('clientes_tratados.csv'))"
      ],
      "metadata": {
        "colab": {
          "base_uri": "https://localhost:8080/"
        },
        "id": "BuaBXicOrCm8",
        "outputId": "7705bd9a-127a-46fe-d51d-0c3dba899df0"
      },
      "execution_count": 60,
      "outputs": [
        {
          "output_type": "stream",
          "name": "stdout",
          "text": [
            "Novo dataframe: \n",
            "                          nome             cpf  idade        data  \\\n",
            "0     Sr. Vitor Gabriel Silva  640.***.***-01  125.0  1900-01-01   \n",
            "1               Calebe Santos  651.***.***-46  125.0  1900-01-01   \n",
            "2                Evelyn Pires  107.***.***-90  125.0  1900-01-01   \n",
            "3          Maria Julia Castro  164.***.***-43  125.0  1900-01-01   \n",
            "4              Arthur Da Rosa  085.***.***-30  125.0  1900-01-01   \n",
            "...                       ...             ...    ...         ...   \n",
            "1007            Eloah Peixoto  064.***.***-16  125.0  1900-01-01   \n",
            "1008              Luiza Sales  726.***.***-80  125.0  1900-01-01   \n",
            "1009      Dr. Alexandre Sales  427.***.***-40  125.0  1900-01-01   \n",
            "1010            Alícia Campos  162.***.***-94  125.0  1900-01-01   \n",
            "1011              Luigi Porto  826.***.***-83  125.0  1900-01-01   \n",
            "\n",
            "                        endereco                     bairro             estado  \n",
            "0       trevo emanuel silva, 482                 vila tirol           RONDÔNIA  \n",
            "1              recanto moraes, 7         ernesto nascimento     RIO DE JANEIRO  \n",
            "2      travessa de caldeira, 237            santa terezinha            SERGIPE  \n",
            "3     residencial de pereira, 20                     jatobá         PERNAMBUCO  \n",
            "4             parque almeida, 66  vila suzana segunda seção     SANTA CATARINA  \n",
            "...                          ...                        ...                ...  \n",
            "1007          rua não cadastrada      bairro não cadastrado            SERGIPE  \n",
            "1008          rua não cadastrada      bairro não cadastrado  RIO GRANDE DO SUL  \n",
            "1009          rua não cadastrada      bairro não cadastrado          SÃO PAULO  \n",
            "1010          rua não cadastrada      bairro não cadastrado              PIAUÍ  \n",
            "1011        parque de santos, 88                   são joão     ESPÍRITO SANTO  \n",
            "\n",
            "[1012 rows x 7 columns]\n"
          ]
        }
      ]
    }
  ]
}